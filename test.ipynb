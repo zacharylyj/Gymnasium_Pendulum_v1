{
 "cells": [
  {
   "cell_type": "code",
   "execution_count": 1,
   "metadata": {},
   "outputs": [],
   "source": [
    "import numpy as np"
   ]
  },
  {
   "cell_type": "code",
   "execution_count": 2,
   "metadata": {},
   "outputs": [],
   "source": [
    "def transform_action_values(n_actions, min_action=-2.0, max_action=2.0):\n",
    "    # Linearly spaced values between -1 and 1\n",
    "    linear_actions = np.linspace(-1, 1, n_actions)\n",
    "\n",
    "    # Apply a quadratic transformation\n",
    "    non_linear_actions = np.sign(linear_actions) * (linear_actions ** 2)\n",
    "\n",
    "    # Scale to the action range of the environment\n",
    "    scaled_actions = min_action + (non_linear_actions + 1) * (max_action - min_action) / 2\n",
    "    return scaled_actions"
   ]
  },
  {
   "cell_type": "code",
   "execution_count": 6,
   "metadata": {},
   "outputs": [
    {
     "data": {
      "text/plain": [
       "array([-2.  , -1.28, -0.72, -0.32, -0.08,  0.  ,  0.08,  0.32,  0.72,\n",
       "        1.28,  2.  ])"
      ]
     },
     "execution_count": 6,
     "metadata": {},
     "output_type": "execute_result"
    }
   ],
   "source": [
    "transform_action_values(11, min_action=-2.0, max_action=2.0)\n"
   ]
  }
 ],
 "metadata": {
  "kernelspec": {
   "display_name": "torch_env",
   "language": "python",
   "name": "python3"
  },
  "language_info": {
   "codemirror_mode": {
    "name": "ipython",
    "version": 3
   },
   "file_extension": ".py",
   "mimetype": "text/x-python",
   "name": "python",
   "nbconvert_exporter": "python",
   "pygments_lexer": "ipython3",
   "version": "3.10.13"
  }
 },
 "nbformat": 4,
 "nbformat_minor": 2
}
